{
 "cells": [
  {
   "cell_type": "code",
   "execution_count": 1,
   "metadata": {},
   "outputs": [],
   "source": [
    "%load_ext autoreload\n",
    "%autoreload 2\n",
    "%load_ext autotime"
   ]
  },
  {
   "cell_type": "code",
   "execution_count": 1,
   "metadata": {},
   "outputs": [],
   "source": [
    "import doctest\n",
    "import sys\n",
    "import json\n",
    "\n",
    "sys.path.append(\"../../gts_test\")\n",
    "from src.train_and_evaluate import *\n",
    "from src.models import *\n",
    "from src.expressions_transfer import *\n",
    "\n",
    "sys.path.append(\"..\")\n",
    "from libs.dataset_readers.text import preprocess_text\n",
    "from libs.dataset_readers.equation import preprocess_equation\n",
    "from libs.dataset_readers.equation_utils import infix_to_prefix"
   ]
  },
  {
   "cell_type": "code",
   "execution_count": 3,
   "metadata": {},
   "outputs": [
    {
     "name": "stdout",
     "output_type": "stream",
     "text": [
      "Reading lines...\n",
      "1398\n",
      "time: 14.2 ms\n"
     ]
    }
   ],
   "source": [
    "# Load the data\n",
    "data = load_raw_data(\"../../gts_test/data/raw_original.json\")\n",
    "\n",
    "print(len(data))"
   ]
  },
  {
   "cell_type": "markdown",
   "metadata": {},
   "source": [
    "---\n",
    "## Transfer num"
   ]
  },
  {
   "cell_type": "code",
   "execution_count": 4,
   "metadata": {},
   "outputs": [
    {
     "name": "stdout",
     "output_type": "stream",
     "text": [
      "Transfer numbers...\n",
      "{'id': '1', 'original_text': '一辆压路机每分钟行驶50米，压路的宽度为3米．如果行驶压路机12分钟，可以压路多少平方米？', 'segmented_text': '一 辆 压路机 每分钟 行驶 50 米 ， 压路 的 宽度 为 3 米 ． 如果 行驶 压路机 12 分钟 ， 可以 压路 多少 平方米 ？', 'equation': 'x=50*12*3', 'ans': '1800'}\n",
      "(['一', '辆', '压路机', '每分钟', '行驶', 'NUM', '米', '，', '压路', '的', '宽度', '为', 'NUM', '米', '．', '如果', '行驶', '压路机', 'NUM', '分钟', '，', '可以', '压路', '多少', '平方米', '？'], ['N0', '*', 'N2', '*', 'N1'], ['50', '3', '12'], [5, 12, 18])\n",
      "['3.14', '1']\n",
      "8\n",
      "time: 135 ms\n"
     ]
    }
   ],
   "source": [
    "pairs, generate_nums, copy_nums = transfer_num(data)\n",
    "\n",
    "print(data[0])\n",
    "print(pairs[0])\n",
    "print(generate_nums)\n",
    "print(copy_nums)"
   ]
  },
  {
   "cell_type": "code",
   "execution_count": 5,
   "metadata": {},
   "outputs": [
    {
     "name": "stdout",
     "output_type": "stream",
     "text": [
      "time: 88.6 ms\n"
     ]
    }
   ],
   "source": [
    "all_tokenized_text = []\n",
    "all_numbers = []\n",
    "all_positions = []\n",
    "all_tokenized_equation = []\n",
    "\n",
    "for problem in data:\n",
    "    text = problem[\"segmented_text\"]\n",
    "    equation = problem[\"equation\"][2:]\n",
    "    problem_tokens, numbers, positions = preprocess_text(\n",
    "            text, \"NUM\")\n",
    "    equation_tokens = preprocess_equation(equation, numbers)\n",
    "    all_tokenized_text.append(problem_tokens)\n",
    "    all_numbers.append(numbers)\n",
    "    all_positions.append(positions)\n",
    "    all_tokenized_equation.append(equation_tokens)"
   ]
  },
  {
   "cell_type": "code",
   "execution_count": 6,
   "metadata": {},
   "outputs": [
    {
     "ename": "AssertionError",
     "evalue": "",
     "output_type": "error",
     "traceback": [
      "\u001b[0;31m---------------------------------------------------------------------------\u001b[0m",
      "\u001b[0;31mAssertionError\u001b[0m                            Traceback (most recent call last)",
      "\u001b[0;32m<ipython-input-6-4a4e77a6e3d7>\u001b[0m in \u001b[0;36m<module>\u001b[0;34m\u001b[0m\n\u001b[1;32m      2\u001b[0m \u001b[0;31m#     print(pairs[idx][1])\u001b[0m\u001b[0;34m\u001b[0m\u001b[0;34m\u001b[0m\u001b[0;34m\u001b[0m\u001b[0m\n\u001b[1;32m      3\u001b[0m \u001b[0;31m#     print(all_tokenized_equation[idx])\u001b[0m\u001b[0;34m\u001b[0m\u001b[0;34m\u001b[0m\u001b[0;34m\u001b[0m\u001b[0m\n\u001b[0;32m----> 4\u001b[0;31m     \u001b[0;32massert\u001b[0m \u001b[0mpairs\u001b[0m\u001b[0;34m[\u001b[0m\u001b[0midx\u001b[0m\u001b[0;34m]\u001b[0m\u001b[0;34m[\u001b[0m\u001b[0;36m0\u001b[0m\u001b[0;34m]\u001b[0m \u001b[0;34m==\u001b[0m \u001b[0mall_tokenized_text\u001b[0m\u001b[0;34m[\u001b[0m\u001b[0midx\u001b[0m\u001b[0;34m]\u001b[0m\u001b[0;34m\u001b[0m\u001b[0;34m\u001b[0m\u001b[0m\n\u001b[0m\u001b[1;32m      5\u001b[0m     \u001b[0;32massert\u001b[0m \u001b[0mpairs\u001b[0m\u001b[0;34m[\u001b[0m\u001b[0midx\u001b[0m\u001b[0;34m]\u001b[0m\u001b[0;34m[\u001b[0m\u001b[0;36m1\u001b[0m\u001b[0;34m]\u001b[0m \u001b[0;34m==\u001b[0m \u001b[0mall_tokenized_equation\u001b[0m\u001b[0;34m[\u001b[0m\u001b[0midx\u001b[0m\u001b[0;34m]\u001b[0m\u001b[0;34m\u001b[0m\u001b[0;34m\u001b[0m\u001b[0m\n\u001b[1;32m      6\u001b[0m     \u001b[0;32massert\u001b[0m \u001b[0mpairs\u001b[0m\u001b[0;34m[\u001b[0m\u001b[0midx\u001b[0m\u001b[0;34m]\u001b[0m\u001b[0;34m[\u001b[0m\u001b[0;36m2\u001b[0m\u001b[0;34m]\u001b[0m \u001b[0;34m==\u001b[0m \u001b[0mall_numbers\u001b[0m\u001b[0;34m[\u001b[0m\u001b[0midx\u001b[0m\u001b[0;34m]\u001b[0m\u001b[0;34m\u001b[0m\u001b[0;34m\u001b[0m\u001b[0m\n",
      "\u001b[0;31mAssertionError\u001b[0m: "
     ]
    },
    {
     "name": "stdout",
     "output_type": "stream",
     "text": [
      "time: 383 ms\n"
     ]
    }
   ],
   "source": [
    "for idx in range(len(data)):\n",
    "#     print(pairs[idx][1])\n",
    "#     print(all_tokenized_equation[idx])\n",
    "    assert pairs[idx][0] == all_tokenized_text[idx]\n",
    "    assert pairs[idx][1] == all_tokenized_equation[idx]        \n",
    "    assert pairs[idx][2] == all_numbers[idx]    \n",
    "    assert pairs[idx][3] == all_positions[idx]  \n"
   ]
  },
  {
   "cell_type": "code",
   "execution_count": 7,
   "metadata": {},
   "outputs": [
    {
     "data": {
      "text/plain": [
       "['<N0>', '*', '<N2>', '*', '<N1>']"
      ]
     },
     "execution_count": 7,
     "metadata": {},
     "output_type": "execute_result"
    },
    {
     "name": "stdout",
     "output_type": "stream",
     "text": [
      "time: 5.03 ms\n"
     ]
    }
   ],
   "source": [
    "all_tokenized_equation[0]"
   ]
  },
  {
   "cell_type": "markdown",
   "metadata": {},
   "source": [
    "---\n",
    "## Infix to prefix"
   ]
  },
  {
   "cell_type": "code",
   "execution_count": 8,
   "metadata": {},
   "outputs": [
    {
     "name": "stdout",
     "output_type": "stream",
     "text": [
      "time: 16.7 ms\n"
     ]
    }
   ],
   "source": [
    "temp_pairs = []\n",
    "for p in pairs:\n",
    "    temp_pairs.append((p[0], from_infix_to_prefix(p[1]), p[2], p[3]))\n",
    "pairs = temp_pairs"
   ]
  },
  {
   "cell_type": "code",
   "execution_count": 9,
   "metadata": {},
   "outputs": [
    {
     "name": "stdout",
     "output_type": "stream",
     "text": [
      "time: 13 ms\n"
     ]
    }
   ],
   "source": [
    "all_tokenized_equation = [infix_to_prefix(x) for x in all_tokenized_equation]"
   ]
  },
  {
   "cell_type": "code",
   "execution_count": 10,
   "metadata": {},
   "outputs": [
    {
     "ename": "AssertionError",
     "evalue": "",
     "output_type": "error",
     "traceback": [
      "\u001b[0;31m---------------------------------------------------------------------------\u001b[0m",
      "\u001b[0;31mAssertionError\u001b[0m                            Traceback (most recent call last)",
      "\u001b[0;32m<ipython-input-10-a4e79ee3ff24>\u001b[0m in \u001b[0;36m<module>\u001b[0;34m\u001b[0m\n\u001b[1;32m      1\u001b[0m \u001b[0;32mfor\u001b[0m \u001b[0midx\u001b[0m \u001b[0;32min\u001b[0m \u001b[0mrange\u001b[0m\u001b[0;34m(\u001b[0m\u001b[0mlen\u001b[0m\u001b[0;34m(\u001b[0m\u001b[0mdata\u001b[0m\u001b[0;34m)\u001b[0m\u001b[0;34m)\u001b[0m\u001b[0;34m:\u001b[0m\u001b[0;34m\u001b[0m\u001b[0;34m\u001b[0m\u001b[0m\n\u001b[0;32m----> 2\u001b[0;31m     \u001b[0;32massert\u001b[0m \u001b[0mpairs\u001b[0m\u001b[0;34m[\u001b[0m\u001b[0midx\u001b[0m\u001b[0;34m]\u001b[0m\u001b[0;34m[\u001b[0m\u001b[0;36m0\u001b[0m\u001b[0;34m]\u001b[0m \u001b[0;34m==\u001b[0m \u001b[0mall_tokenized_text\u001b[0m\u001b[0;34m[\u001b[0m\u001b[0midx\u001b[0m\u001b[0;34m]\u001b[0m\u001b[0;34m\u001b[0m\u001b[0;34m\u001b[0m\u001b[0m\n\u001b[0m\u001b[1;32m      3\u001b[0m     \u001b[0;32massert\u001b[0m \u001b[0mpairs\u001b[0m\u001b[0;34m[\u001b[0m\u001b[0midx\u001b[0m\u001b[0;34m]\u001b[0m\u001b[0;34m[\u001b[0m\u001b[0;36m1\u001b[0m\u001b[0;34m]\u001b[0m \u001b[0;34m==\u001b[0m \u001b[0mall_tokenized_equation\u001b[0m\u001b[0;34m[\u001b[0m\u001b[0midx\u001b[0m\u001b[0;34m]\u001b[0m\u001b[0;34m\u001b[0m\u001b[0;34m\u001b[0m\u001b[0m\n\u001b[1;32m      4\u001b[0m     \u001b[0;32massert\u001b[0m \u001b[0mpairs\u001b[0m\u001b[0;34m[\u001b[0m\u001b[0midx\u001b[0m\u001b[0;34m]\u001b[0m\u001b[0;34m[\u001b[0m\u001b[0;36m2\u001b[0m\u001b[0;34m]\u001b[0m \u001b[0;34m==\u001b[0m \u001b[0mall_numbers\u001b[0m\u001b[0;34m[\u001b[0m\u001b[0midx\u001b[0m\u001b[0;34m]\u001b[0m\u001b[0;34m\u001b[0m\u001b[0;34m\u001b[0m\u001b[0m\n\u001b[1;32m      5\u001b[0m     \u001b[0;32massert\u001b[0m \u001b[0mpairs\u001b[0m\u001b[0;34m[\u001b[0m\u001b[0midx\u001b[0m\u001b[0;34m]\u001b[0m\u001b[0;34m[\u001b[0m\u001b[0;36m3\u001b[0m\u001b[0;34m]\u001b[0m \u001b[0;34m==\u001b[0m \u001b[0mall_positions\u001b[0m\u001b[0;34m[\u001b[0m\u001b[0midx\u001b[0m\u001b[0;34m]\u001b[0m\u001b[0;34m\u001b[0m\u001b[0;34m\u001b[0m\u001b[0m\n",
      "\u001b[0;31mAssertionError\u001b[0m: "
     ]
    },
    {
     "name": "stdout",
     "output_type": "stream",
     "text": [
      "time: 15.8 ms\n"
     ]
    }
   ],
   "source": [
    "for idx in range(len(data)):\n",
    "    assert pairs[idx][0] == all_tokenized_text[idx]\n",
    "    assert pairs[idx][1] == all_tokenized_equation[idx]        \n",
    "    assert pairs[idx][2] == all_numbers[idx]    \n",
    "    assert pairs[idx][3] == all_positions[idx]  \n"
   ]
  },
  {
   "cell_type": "markdown",
   "metadata": {},
   "source": [
    "---\n",
    "## Create 5-fold"
   ]
  },
  {
   "cell_type": "code",
   "execution_count": 11,
   "metadata": {},
   "outputs": [
    {
     "name": "stdout",
     "output_type": "stream",
     "text": [
      "time: 1.78 ms\n"
     ]
    }
   ],
   "source": [
    "fold_size = int(len(pairs) * 0.2)\n",
    "fold_pairs = []\n",
    "for split_fold in range(4):\n",
    "    fold_start = fold_size * split_fold\n",
    "    fold_end = fold_size * (split_fold + 1)\n",
    "    fold_pairs.append(pairs[fold_start:fold_end])\n",
    "fold_pairs.append(pairs[(fold_size * 4):])"
   ]
  },
  {
   "cell_type": "markdown",
   "metadata": {},
   "source": [
    "---\n",
    "## Create vocab"
   ]
  },
  {
   "cell_type": "code",
   "execution_count": 12,
   "metadata": {},
   "outputs": [
    {
     "name": "stdout",
     "output_type": "stream",
     "text": [
      "time: 1.9 ms\n"
     ]
    }
   ],
   "source": [
    "def read_vocab(path):\n",
    "    tokens: List[str] = []\n",
    "    \n",
    "    with open(path, 'r') as f:\n",
    "        for line in f.readlines():\n",
    "            token = line.rstrip()\n",
    "            tokens.append(token)\n",
    "    return set(tokens)"
   ]
  },
  {
   "cell_type": "code",
   "execution_count": 13,
   "metadata": {},
   "outputs": [
    {
     "name": "stdout",
     "output_type": "stream",
     "text": [
      "Indexing words...\n",
      "keep_words 587 / 2009 = 0.2922\n",
      "Indexed 590 words in input language, 16 words in output\n",
      "Number of training data 1119\n",
      "Number of testind data 279\n",
      "time: 277 ms\n"
     ]
    }
   ],
   "source": [
    "# Vocab from \n",
    "fold = 0\n",
    "pairs_tested = []\n",
    "pairs_trained = []\n",
    "for fold_t in range(5):\n",
    "    if fold_t == fold:\n",
    "        pairs_tested += fold_pairs[fold_t]\n",
    "    else:\n",
    "        pairs_trained += fold_pairs[fold_t]\n",
    "\n",
    "input_lang, output_lang, train_pairs, test_pairs = prepare_data(pairs_trained, pairs_tested, 5, generate_nums,\n",
    "                                                                copy_nums, tree=True)"
   ]
  },
  {
   "cell_type": "code",
   "execution_count": 14,
   "metadata": {},
   "outputs": [
    {
     "name": "stdout",
     "output_type": "stream",
     "text": [
      "590\n",
      "16\n",
      "['/', '*', '+', '-', '^', '3.14', '1', 'N0', 'N1', 'N2', 'N3', 'N4', 'N5', 'N6', 'N7', 'UNK']\n",
      "time: 2.28 ms\n"
     ]
    }
   ],
   "source": [
    "print(input_lang.n_words)\n",
    "print(output_lang.n_words)\n",
    "# print(input_lang.word2index)\n",
    "# print(input_lang.index2word)\n",
    "print(output_lang.index2word)"
   ]
  },
  {
   "cell_type": "code",
   "execution_count": 16,
   "metadata": {},
   "outputs": [
    {
     "name": "stdout",
     "output_type": "stream",
     "text": [
      "{'UNK', 'NUM', '沙', 'PAD'}\n",
      "{'@@UNKNOWN@@', '<NUM>'}\n",
      "time: 2.79 ms\n"
     ]
    }
   ],
   "source": [
    "input_vocab1 = set(input_lang.index2word)\n",
    "input_vocab2 = read_vocab(\"../results/seq2tree/check_loss/fold0/vocabulary/tokens.txt\")\n",
    "print(input_vocab1.difference(input_vocab2))\n",
    "print(input_vocab2.difference(input_vocab1))"
   ]
  },
  {
   "cell_type": "code",
   "execution_count": 17,
   "metadata": {},
   "outputs": [
    {
     "name": "stdout",
     "output_type": "stream",
     "text": [
      "101 ([3, 133, 272, 2, 6, 1, 255, 200, 2, 122, 2, 31, 2, 6, 199, 129, 1, 19, 7, 155, 351, 47, 2, 352, 26], 25, [1, 15, 15], 3, ['4', '4'], [5, 16], [[0, 1], [0, 1]])\n",
      "133 ([2, 2, 7, 182, 136, 17, 77, 129, 1, 120, 6, 74, 2, 7, 16, 100, 6, 1, 255, 224, 1, 120, 391, 123, 340, 230, 2, 31, 210, 391, 136, 25, 368, 2, 31], 35, [0, 7, 15], 3, ['48', '4', '4'], [8, 17, 20], [[1, 2]])\n",
      "175 ([3, 400, 401, 6, 18, 9, 1, 101, 7, 20, 9, 1, 101, 7, 99, 9, 1, 101, 31, 245, 203, 401, 6, 2, 106, 1, 184, 432, 7, 2, 2, 106, 2, 96, 1, 101, 98, 1, 7, 203, 6, 96, 37, 25, 38, 26], 46, [3, 2, 2, 1, 7, 8, 1, 1, 7, 15, 12, 1, 1, 8, 15, 12, 11], 17, ['10', '8', '4', '4', '25', '2'], [6, 11, 16, 25, 34, 37], [[2, 3], [2, 3]])\n",
      "time: 3.9 ms\n"
     ]
    }
   ],
   "source": [
    "for idx, i in enumerate(train_pairs[:200]):\n",
    "    if i[-1]:\n",
    "        print(idx, i)\n",
    "#         break"
   ]
  },
  {
   "cell_type": "code",
   "execution_count": 18,
   "metadata": {},
   "outputs": [
    {
     "data": {
      "text/plain": [
       "[2, 1]"
      ]
     },
     "execution_count": 18,
     "metadata": {},
     "output_type": "execute_result"
    },
    {
     "name": "stdout",
     "output_type": "stream",
     "text": [
      "time: 2.78 ms\n"
     ]
    }
   ],
   "source": [
    "a = [1, 2]\n",
    "a.reverse()\n",
    "a"
   ]
  },
  {
   "cell_type": "markdown",
   "metadata": {},
   "source": [
    "---\n",
    "## Doctesting"
   ]
  },
  {
   "cell_type": "code",
   "execution_count": 19,
   "metadata": {},
   "outputs": [
    {
     "name": "stdout",
     "output_type": "stream",
     "text": [
      "time: 10.8 ms\n"
     ]
    }
   ],
   "source": [
    "doctest.run_docstring_examples(preprocess_text, globals())"
   ]
  },
  {
   "cell_type": "code",
   "execution_count": 20,
   "metadata": {},
   "outputs": [
    {
     "name": "stdout",
     "output_type": "stream",
     "text": [
      "time: 2.53 ms\n"
     ]
    }
   ],
   "source": [
    "doctest.run_docstring_examples(preprocess_equation, globals())"
   ]
  },
  {
   "cell_type": "code",
   "execution_count": null,
   "metadata": {},
   "outputs": [],
   "source": []
  }
 ],
 "metadata": {
  "kernelspec": {
   "display_name": "Python 3",
   "language": "python",
   "name": "python3"
  },
  "language_info": {
   "codemirror_mode": {
    "name": "ipython",
    "version": 3
   },
   "file_extension": ".py",
   "mimetype": "text/x-python",
   "name": "python",
   "nbconvert_exporter": "python",
   "pygments_lexer": "ipython3",
   "version": "3.7.7"
  }
 },
 "nbformat": 4,
 "nbformat_minor": 4
}
