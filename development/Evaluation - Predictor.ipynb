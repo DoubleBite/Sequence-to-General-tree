{
 "cells": [
  {
   "cell_type": "markdown",
   "metadata": {},
   "source": [
    "1. The part that compares the prediction and gold equation has a bug."
   ]
  },
  {
   "cell_type": "code",
   "execution_count": 1,
   "metadata": {},
   "outputs": [],
   "source": [
    "%load_ext autoreload\n",
    "%autoreload 2\n",
    "%load_ext autotime"
   ]
  },
  {
   "cell_type": "code",
   "execution_count": 2,
   "metadata": {},
   "outputs": [
    {
     "name": "stdout",
     "output_type": "stream",
     "text": [
      "time: 4.62 s\n"
     ]
    }
   ],
   "source": [
    "import json\n",
    "import random\n",
    "import re\n",
    "\n",
    "import sys\n",
    "sys.path.append(\"..\")\n",
    "\n",
    "from libs.predictors.math_predictor import MathPredictor\n",
    "from libs.dataset_readers.math23k_reader import Math23kReader"
   ]
  },
  {
   "cell_type": "code",
   "execution_count": 3,
   "metadata": {},
   "outputs": [
    {
     "name": "stdout",
     "output_type": "stream",
     "text": [
      "{'@@PADDING@@': 0, '*': 0, '/': 1, '+': 2, '-': 3, '^': 4, 'rectangle_area': 5, 'circumference_diameter': 6, 'cuboid_volume': 7, 'circle_area': 8, 'cubic_volume': 9, 'square_area': 10, 'circumference_radius': 11, 'triangle_area': 12, 'rectangle_perimeter': 13, 'square_perimeter': 14, 'cuboid_surface': 15, '1': 16, '3.14': 17, '<N0>': 18, '<N1>': 19, '<N2>': 20, '<N3>': 21, '<N4>': 22, '<N5>': 23, '<N6>': 24, '<N7>': 25, '@@UNKNOWN@@': 26}\n",
      "tensor([[2.],\n",
      "        [2.],\n",
      "        [2.],\n",
      "        [2.],\n",
      "        [2.],\n",
      "        [2.],\n",
      "        [1.],\n",
      "        [3.],\n",
      "        [1.],\n",
      "        [1.],\n",
      "        [1.],\n",
      "        [1.],\n",
      "        [2.],\n",
      "        [2.],\n",
      "        [1.],\n",
      "        [3.],\n",
      "        [0.],\n",
      "        [0.],\n",
      "        [0.],\n",
      "        [0.],\n",
      "        [0.],\n",
      "        [0.],\n",
      "        [0.],\n",
      "        [0.],\n",
      "        [0.],\n",
      "        [0.],\n",
      "        [0.],\n",
      "        [0.]])\n",
      "time: 1.26 s\n"
     ]
    }
   ],
   "source": [
    "path = \"../data/geometry_5fold_0429/fold0_train.json\"\n",
    "reader = Math23kReader(num_token_type=\"NUM\")\n",
    "dataset = list(reader.read(path))\n",
    "\n",
    "predictor = MathPredictor.from_path(\"../results/s2g-0429/check_loss1/fold0/model.tar.gz\", predictor_name=\"math\")"
   ]
  },
  {
   "cell_type": "code",
   "execution_count": 4,
   "metadata": {},
   "outputs": [
    {
     "name": "stdout",
     "output_type": "stream",
     "text": [
      "{'id': 283, 'problem': '一 座 温室 ， 室内 耕地面积 是 285 平方米 ， 全部 栽种 西红柿 ， 一茬 平均 每平方米 产 6 千克 ． 每千克 按 0.65 元 计算 ， 一共 可以 收入 多少 元 ？', 'equation': 'x=285*6*0.65', 'answer': '1111.5', 'numbers': ['285', '6', '0.65'], 'target': ['*', '*', '<N0>', '<N1>', '<N2>'], 'predicted_tokens': ['*', '*', '<N0>', '<N1>', '<N2>'], 'predicted_answer': 1111.5, 'equation_correct': True, 'answer_correct': True}\n",
      "time: 289 ms\n"
     ]
    }
   ],
   "source": [
    "a = predictor.predict_instance(dataset[2])\n",
    "print(a)"
   ]
  },
  {
   "cell_type": "code",
   "execution_count": null,
   "metadata": {},
   "outputs": [],
   "source": []
  }
 ],
 "metadata": {
  "kernelspec": {
   "display_name": "Python 3",
   "language": "python",
   "name": "python3"
  },
  "language_info": {
   "codemirror_mode": {
    "name": "ipython",
    "version": 3
   },
   "file_extension": ".py",
   "mimetype": "text/x-python",
   "name": "python",
   "nbconvert_exporter": "python",
   "pygments_lexer": "ipython3",
   "version": "3.7.7"
  }
 },
 "nbformat": 4,
 "nbformat_minor": 4
}
